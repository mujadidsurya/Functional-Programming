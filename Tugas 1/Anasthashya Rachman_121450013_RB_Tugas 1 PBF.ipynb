{
 "cells": [
  {
   "attachments": {},
   "cell_type": "markdown",
   "metadata": {},
   "source": [
    "# Nama : Anasthashya Rachman\n",
    "# NIM : 121450013\n",
    "# Kelas: RB\n",
    "# TUGAS 1 PEMROGRAMAN BERBASIS FUNGSI"
   ]
  },
  {
   "attachments": {},
   "cell_type": "markdown",
   "metadata": {},
   "source": [
    "1. Jelaskan menggunakan tabel mengenai kelebihan dan kekurangan\n",
    "paradigma procedural dibandingkan dengan object oriented (minimal 3) !\n",
    "\n",
    "Berikut merupakan kelebihan dan kekurangan paradigma procedural dibandingkan dengan object oriented dan sebaliknya:"
   ]
  },
  {
   "attachments": {},
   "cell_type": "markdown",
   "metadata": {},
   "source": [
    "\n",
    "Paradigma | Kelebihan | Kekurangan\n",
    "---| --- | ---\n",
    "Procedural|1. Memori lebih hemat karena menggunakan konsep mesin von newman dan memori yang dapat dibedakan menjadi memori instruksi dan memori data. <br> 2. Menerapkan algoritma pemecahan masalah yang sederhana, standar, dan efektif karena menggunakan konsep penyelesaian masalah satu per satu langkah yang diterapkan. <br> 3. Dapat menghasilkan program yang terstruktur sehingga, dapat menghindari pernyataan GOTO, yaitu instruksi melompat atau melewati program. | 1. Kode dengan paradigma prosedural tidak dapat digunakan kembali karena tidak membuat fungsi dan subprogram. <br> 2. Tidak dapat dihubungkan dengan objek di dunia nyata karena hanya berisi langkah demi langkah penyelesaian tugas yang di instruksi dan dieksekusi satu per satu. <br> 3. Penulisan kode tidak efisien dan dinamis karena kode program tidak dapat digunakan kembali.\n",
    "Object Oriented | 1. Menggunakan objek real-word yang dapat digunakan kembali pada program lain. <br> 2. Dapat dihubungkan dengan objek di dunia nyata karena memiliki tujuan yang memudahkan pembuatan program dengan konsep yang ada dalam kehidupan sehari-hari. <br> 3. Penulisan kode lebih efisien dan dinamis karena dapat menggunakan fungsi yang diulang dan menjadikan parameter  yang diterima dan dikirim menjadi dinamis.| 1. Lebih banyak menghabiskan memori karena memungkingkan melakukan generalisasi berlebihan. <br> 2. Struktur program yang lebih kompleks dan membutuhkan waktu untuk dipelajari. <br> 3. Memiliki program yang kurang terstruktur dibandingkan dengan prosedural karena menggunakan konsep real-word objek"
   ]
  },
  {
   "attachments": {},
   "cell_type": "markdown",
   "metadata": {},
   "source": [
    "2. Jelaskan menggunakan tabel mengenai kelebihan dan kekurangan paradigma object oriented dibandingkan dengan functional (minimal 3) !\n",
    "\n",
    "Berikut merupakan kelebihan dan kekurangan paradigma object oriented dibandingkan dengan functional dan sebaliknya:\n",
    "Paradigma | Kelebihan | Kekurangan\n",
    "---| --- | ---\n",
    "Object Oriented|1. Menggunakan konsep objek real-word yang mudah untuk dihubungkan dengan kehidupan nyata. <br> 2. Penulisan kode lebih dinamis karena dapat menjadikan parameter  yang diterima dan dikirim menjadi dinamis. <br> 3. Lebih mudah untuk dipahami dibandingkan dengan functional programming. | 1. Penggunaan program lebih sulit, karena memerlukan interaksi class, inheritance, polimorfisme, dan enkapsulasi. <br> 2. Kurang efisien dan kurang logis dalam penyelesaian masalah. <br> 3. Menggunakan waktu yang relatif lebih lama karena program memiliki ukuran yang lebih besar .\n",
    "Functional | 1. Menggunakan konsep fungsi yang dapat diulang dan digunakan kapan saja . <br> 2. Penulisan program lebih efisien dan penyelesaian permasalahannya lebih logis karena menerapkan konsep fungsi. <br> 3. Dapat memaksimalkan waktu dengan baik, karena cenderung memiliki ukuran yang lebih kecil.| 1. Sulit untuk dihubungkan dengan objek dunia nyata. <br> 2. Penulisan kode program memiliki parameter yang berbeda sehingga, kurang dinamis dibandingkan dengan paradigma object oriented. <br> 3. Sulit untuk dipahami karena lebih kompleks."
   ]
  },
  {
   "attachments": {},
   "cell_type": "markdown",
   "metadata": {},
   "source": [
    "3. Jelaskan menggunakan tabel mengenai kelebihan dan kekurangan paradigma procedural dibandingkan dengan functional (minimal 3) !\n",
    "\n",
    "erikut merupakan kelebihan dan kekurangan paradigma procedural dibandingkan dengan functional dan sebaliknya:\n",
    "Paradigma | Kelebihan | Kekurangan\n",
    "---| --- | ---\n",
    "Procedural |1. Menggunakan kode program yang lebih mudah, sehingga mudah dimengerti dan sangat cocok untuk pemula. <br> 2. Menggunakan memori yang lebih hemat, sehingga dapat lebih cepat melakukan eksekusi permasalahan dalam kode program. <br> 3. Lebih efisien karena, menggunakan bahasa pemrograman yang lebih mendekati bahasi mesin. <br> 4. Termasuk dalam kategori imperatif yang memiliki instruksi untuk mengubah status program | 1. Kode program memungkinkan tidak dapat digunakan, karena tidak menerapkan konsep fungsi dan tidak membuat fungsi ataupun subprogram. <br> 2. Sulit untuk dapat menggunakan kode program dari fungsi kembali. <br> 3. Kurang memungkinkan untuk dilakukan unit testing karena, output yang dihasilkan tidak selalu sama. <br> 4. Termasuk dalam kategori imperatif yang kurang mendukung pemrograman yang terstruktur.\n",
    "Functional | 1. Menggunakan konsep fungsi yang dapat diulang dan digunakan kapan saja. <br> 2. Lebih mudah dibaca karena dapat menerima parameter dan mereturn hasil yang diinginkan. <br> 3. Lebih mudah dalam melakukan unit testing karena, outputnya selalu sama dengan ekspektasi. <br> 4. Lebih mampu untuk menyediakan pemrograman yang terstruktur. | 1. Lebih sulit untuk memahami kode program, sehingga kurang cocok untuk pemula. <br> 2. Memungkinkan untuk tidak readable (sulit dibaca) jika terdapat persoalan yang kompleks karena, fokus pada bagaimana penyelesaiannya. <br> 3. Kurang efisien karena, lebih sulit dan lebih jauh dari bahasa mesin daripada prosedural. <br> 4. Tidak dapat memodifikasi instruksi . "
   ]
  },
  {
   "attachments": {},
   "cell_type": "markdown",
   "metadata": {},
   "source": [
    "4.\tApa yang dimaksud dengan pure functional programming language? \n",
    "\n",
    "Pure functional programming language adalah suatu paradigma pemrograman yang berbasis fungsi dengan menerapkan konsep matematis dalam mengeksekusi untuk menyelesaikan suatu permasalahan. Dalam penerapan paradigma ini, tidak dapat memodifikasi input dan tidak dapat mengamati hal-hal selain yang ada pada inputnya. Pada penerapan pure functional programming language dapat menggunakan memori yang banyak, menghabiskan banyak waktu, dan terjadi loop. Namun, pure functional programming language dapat mudah diprediksi dan mengurangi terjadinya bug. Terdapat beberapa contoh dari pure functional programming language, yaitu haskel, aqda, purescript dan lainnya. \n"
   ]
  },
  {
   "attachments": {},
   "cell_type": "markdown",
   "metadata": {},
   "source": [
    "5.\tDari bahasa pemrograman FP di slide sebelumnya ( slide 14 ) , manakah yang termasuk pure functional programming language? \n",
    "\n",
    "Yang termasuk dalam pure functional programming language pada slide 14 adalah lisp, haskell, dan standard ML. \n"
   ]
  },
  {
   "attachments": {},
   "cell_type": "markdown",
   "metadata": {},
   "source": [
    "6.\tMembuat program Simple Password encryption, dengan ketentuan \n",
    "    1.\tInput password bertipe string dengan batasan panjang password 100 karakter \n",
    "    2.\tSetiap karakter dari string tersebut diubah menjadi ASCII value \n",
    "    3.\tKemudian setiap ASCII value tersebut dikembangkan menjadi 3 value dengan dilakukan operasi berikut:\n",
    "     \n",
    "        1.Value pertama dibagi dengan integer 26 kemudian dibulatkan dan dijumlahkan dengan 80 kemudian diubah kembali menjadi karakter \n",
    "\n",
    "        2.Value kedua dihitung sisa bagi dengan 26 kemudian dijumlahkan dengan 80 kemudian diubah kembali menjadi karakter \n",
    "\n",
    "        3.Value ketiga adalah karakter ‘+’ jika value pertama lebih besar dari value kedua, atau value ketiga adalah karakter ‘-’ jika value pertama tidak lebih besar dari value kedua \n",
    "        \n",
    "    4.\tDeretkan value pertama, kedua dan ketiga untuk setiap karakter dalam password tersebut sehingga didapatkan password dalam bentuk baru. "
   ]
  },
  {
   "attachments": {},
   "cell_type": "markdown",
   "metadata": {},
   "source": [
    "**Penyelesaian Nomor 6**"
   ]
  },
  {
   "attachments": {},
   "cell_type": "markdown",
   "metadata": {},
   "source": [
    "1.\tInput password bertipe string dengan batasan panjang password 100 karakter \n",
    "2.\tSetiap karakter dari string tersebut diubah menjadi ASCII value \n",
    "3.\tKemudian setiap ASCII value tersebut dikembangkan menjadi 3 value dengan dilakukan operasi berikut:\n",
    "     \n",
    "    1.Value pertama dibagi dengan integer 26 kemudian dibulatkan dan dijumlahkan dengan 80 kemudian diubah kembali menjadi karakter \n",
    "\n",
    "    2.Value kedua dihitung sisa bagi dengan 26 kemudian dijumlahkan dengan 80 kemudian diubah kembali menjadi karakter \n",
    "\n",
    "    3.Value ketiga adalah karakter ‘+’ jika value pertama lebih besar dari value kedua, atau value ketiga adalah karakter ‘-’ jika value pertama tidak lebih besar dari value kedua "
   ]
  },
  {
   "cell_type": "code",
   "execution_count": null,
   "metadata": {},
   "outputs": [],
   "source": [
    "from posixpath import join\n",
    "def encryption(password):\n",
    "  if len(password) > 100 or len(password) == 0:\n",
    "    print(\"Masukkan password Anda dengan batasan panjang password 100 karakter!\")\n",
    "  else:\n",
    "    ascii_value = [str(ord(i))for i in password]\n",
    "    encryption_value = ''.join(chr((int(j)//26)+80)+chr((int(j)%26)+80)+('+' if (int(j)//26)+80 > (int(j)%26)+80 else '-') for j in ascii_value)"
   ]
  },
  {
   "attachments": {},
   "cell_type": "markdown",
   "metadata": {},
   "source": [
    "4.\tDeretkan value pertama, kedua dan ketiga untuk setiap karakter dalam password tersebut sehingga didapatkan password dalam bentuk baru."
   ]
  },
  {
   "cell_type": "code",
   "execution_count": null,
   "metadata": {},
   "outputs": [],
   "source": [
    "def decryption(password):\n",
    "  split_ps = [(password[k:k+3]) for k in range(0, len(password), 3)]\n",
    "  decryption_value = ''.join(chr(((ord(list(z)[0])-80)*26)+(ord(list(z)[1])-80)) for z in split_ps)"
   ]
  },
  {
   "attachments": {},
   "cell_type": "markdown",
   "metadata": {},
   "source": [
    "**Apa output yang dihasilkan dari program tersebut jika input password adalah‘anakanakcerdas2020’ ?**"
   ]
  },
  {
   "cell_type": "code",
   "execution_count": null,
   "metadata": {},
   "outputs": [],
   "source": [
    "password = input(\"Masukkan password Anda!: \")\n",
    "encryption(password)"
   ]
  },
  {
   "attachments": {},
   "cell_type": "markdown",
   "metadata": {},
   "source": [
    "**User tersebut lupa password asli yang dia inputkan ke dalam program\n",
    "tersebut, password setelah dienkripsi adalah\n",
    "‘Sc-TV-Sc-TS+T[-Sc-TQ+TV-T[-Sf-Sc-T\\-Sc-Qh-Qf-Qh-Qf-TS+Sg-Se-Sg-’. Bantulah user\n",
    "tersebut mendapatkan password asli nya**"
   ]
  },
  {
   "cell_type": "code",
   "execution_count": null,
   "metadata": {},
   "outputs": [],
   "source": [
    "encryption = input(\"Masukkan password encryption Anda: \")\n",
    "decryption(encryption)"
   ]
  }
 ],
 "metadata": {
  "language_info": {
   "name": "python"
  },
  "orig_nbformat": 4
 },
 "nbformat": 4,
 "nbformat_minor": 2
}
