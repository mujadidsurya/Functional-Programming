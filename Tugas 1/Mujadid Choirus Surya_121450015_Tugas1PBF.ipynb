{
 "cells": [
  {
   "attachments": {},
   "cell_type": "markdown",
   "metadata": {},
   "source": [
    "# MUJADID CHOIRUS SURYA \n",
    "# 121450015\n",
    "# RA"
   ]
  },
  {
   "attachments": {},
   "cell_type": "markdown",
   "metadata": {},
   "source": [
    " 1. Jelaskan menggunakan tabel mengenai kelebihan dan kekurangan paradigma procedural dibandingkan dengan object oriented (minimal 3)!"
   ]
  },
  {
   "attachments": {},
   "cell_type": "markdown",
   "metadata": {},
   "source": [
    "**Jawab:**\n",
    "\n",
    "| Paradigma | Kelebihan | Kekurangan |\n",
    "|-----------|-----------|-----------|\n",
    "| **Procedural** | 1. Lebih mudah dipahami sebagai programmer pemula. <br> 2. Lebih efisien dari segi memori dan performa. <br> 3. Struktur program linear dan mudah diterapkan. <br> 4. Alur program lebih mudah untuk ditelusuri. | 1. Kurang fleksibel dan sulit untuk memodelkan objek-objek dalam dunia nyata. <br> 2. Lebih sulit untuk membuat kode yang reusable dan modulable. <br> 3. Kode prosedural sering kali tidak dapat digunakan ulang karena paradigma ini tidak membuat fungsi atau subprogram. <br> 4. Operasi program lebih diutamakan dibandingkan dengan pengolahan data. |"
   ]
  },
  {
   "attachments": {},
   "cell_type": "markdown",
   "metadata": {},
   "source": [
    "\n",
    "\n",
    "| Paradigma | Kelebihan | Kekurangan |\n",
    "|-----------|-----------|-----------|\n",
    "| **Object Oriented** | Maintenance program lebih mudah. <br> Update program lebih mudah. <br> Proses development lebih cepat. <br> Cost lebih rendah. <br> Script program lebih rapih. <br> Script program dapat digunakan berulang. | Kompleks untuk dipelajari. <br> Ukuran program yang dihasilkan besar. <br> Runtime program lambat. <br> Tidak semua masalah dapat diatasi. <br> Tidak efisien. <br> Berpotensi besar melakukan generalisasi yang berlebihan. |"
   ]
  },
  {
   "attachments": {},
   "cell_type": "markdown",
   "metadata": {},
   "source": [
    "2. Jelaskan menggunakan tabel mengenai kelebihan dan kekurangan paradigma object oriented dibandingkan dengan functional (minimal 3) ! "
   ]
  },
  {
   "attachments": {},
   "cell_type": "markdown",
   "metadata": {},
   "source": [
    "**Jawab:**\n",
    "\n",
    "| Paradigma | Kelebihan | Kekurangan |\n",
    "|-----------|-----------|-----------|\n",
    "| **Object Oriented** | Maintenance program lebih mudah. <br> Update program lebih mudah. <br> Proses development lebih cepat. <br> Cost lebih rendah. <br> Script program lebih rapih. <br> Script program dapat digunakan berulang. | Kompleks untuk dipelajari. <br> Ukuran program yang dihasilkan besar. <br> Runtime program lambat. <br> Tidak semua masalah dapat diatasi. <br> Tidak efisien. <br> Berpotensi besar melakukan generalisasi yang berlebihan. |"
   ]
  },
  {
   "attachments": {},
   "cell_type": "markdown",
   "metadata": {},
   "source": [
    "\n",
    "\n",
    "| Paradigma | Kelebihan | Kekurangan |\n",
    "|-----------|-----------|-----------|\n",
    "| **Functional** | Pure functions lebih mudah dipahami karena tidak mengubah status apa pun dan hanya bergantung pada input yang diberikan kepada mereka. <br> Membantu proses debug menjadi lebih cepat. <br> Mengubah masalah kompleks menjadi potongan-potongan kecil yang jauh lebih sederhana untuk diselesaikan. <br> Pengujian dan debugging lebih mudah.  | Relatif sulit untuk dipelajari oleh pemula Terkadang menulis pure functions dapat mengurangi keterbacaan kode. <br> Pemeliharaan sulit ketika digunakan untuk proyek berskala besar. <br> Menjaga reusability dari suatu fungsi adalah hal yang tidak mudah untuk dilakukan. <br> Relatif sulit untuk dipelajari oleh pemula. |"
   ]
  },
  {
   "attachments": {},
   "cell_type": "markdown",
   "metadata": {},
   "source": [
    "3. Jelaskan menggunakan tabel mengenai kelebihan dan kekurangan paradigma procedural dibandingkan dengan functional (minimal 3) !"
   ]
  },
  {
   "attachments": {},
   "cell_type": "markdown",
   "metadata": {},
   "source": [
    "**Jawab:**\n",
    "\n",
    "| Paradigma | Kelebihan | Kekurangan |\n",
    "|-----------|-----------|-----------|\n",
    "| **Procedural** | 1. Lebih mudah dipahami sebagai programmer pemula. <br> 2. Lebih efisien dari segi memori dan performa. <br> 3. Struktur program linear dan mudah diterapkan. <br> 4. Alur program lebih mudah untuk ditelusuri. | 1. Kurang fleksibel dan sulit untuk memodelkan objek-objek dalam dunia nyata. <br> 2. Lebih sulit untuk membuat kode yang reusable dan modulable. <br> 3. Kode prosedural sering kali tidak dapat digunakan ulang karena paradigma ini tidak membuat fungsi atau subprogram. <br> 4. Operasi program lebih diutamakan dibandingkan dengan pengolahan data. |\n"
   ]
  },
  {
   "attachments": {},
   "cell_type": "markdown",
   "metadata": {},
   "source": [
    "\n",
    "\n",
    "| Paradigma | Kelebihan | Kekurangan |\n",
    "|-----------|-----------|-----------|\n",
    "| **Functional** | Pure functions lebih mudah dipahami karena tidak mengubah status apa pun dan hanya bergantung pada input yang diberikan kepada mereka. <br> Membantu proses debug menjadi lebih cepat. <br> Mengubah masalah kompleks menjadi potongan-potongan kecil yang jauh lebih sederhana untuk diselesaikan. <br> Pengujian dan debugging lebih mudah.  | Relatif sulit untuk dipelajari oleh pemula Terkadang menulis pure functions dapat mengurangi keterbacaan kode. <br> Pemeliharaan sulit ketika digunakan untuk proyek berskala besar. <br> Menjaga reusability dari suatu fungsi adalah hal yang tidak mudah untuk dilakukan. <br> Relatif sulit untuk dipelajari oleh pemula. |"
   ]
  },
  {
   "attachments": {},
   "cell_type": "markdown",
   "metadata": {},
   "source": [
    "4. Apa yang dimaksud dengan pure functional programming language?\n"
   ]
  },
  {
   "attachments": {},
   "cell_type": "markdown",
   "metadata": {},
   "source": [
    "**Jawab :**\n",
    "Pure functional programming language adalah bahasa pemrograman yang fungsi-fungsinya murni tidak mengizinkan adanya efek samping pada bahasa tersebut\n"
   ]
  },
  {
   "attachments": {},
   "cell_type": "markdown",
   "metadata": {},
   "source": [
    "5. Dari bahasa pemrograman FP di slide sebelumnya ( slide 14 ) , manakah yang termasuk pure functional programming language?"
   ]
  },
  {
   "attachments": {},
   "cell_type": "markdown",
   "metadata": {},
   "source": [
    "**Jawab :**\n",
    "Tidak ada skala untuk menilai tingkat kemurnian bahasa fungsional. Jika bahasa tersebut mengizinkan adanya efek samping pada bahasa tersebut, maka bahasa tersebut tidak murni, begitu sebaliknya. Dengan definisi ini, yang termasuk pure functional programming language yaitu Haskell, Mercury, Clean, dan lain-lain . Sedangkan Scala, Clojure, F#, OCaml, dan lain-lain adalah bahasa yang tidak murni.\n"
   ]
  },
  {
   "cell_type": "markdown",
   "metadata": {},
   "source": [
    "6. Membuat program Simple Password encryption, dengan ketentuan :\n",
    "    -> Input password bertipe string dengan batasan panjang password 100 karakter\n",
    "    -> Setiap karakter dari string tersebut diubah menjadi ASCII value\n",
    "    -> Kemudian setiap ASCII value tersebut dikembangkan menjadi 3 value dengan dilakukan operasi berikut:\n",
    "        1. Value pertama dibagi dengan integer 26 kemudian dibulatkan dan dijumlahkan dengan 80 kemudian diubah kembali menjadi karakter\n",
    "        2. Value kedua dihitung sisa bagi dengan 26 kemudian dijumlahkan dengan 80 kemudian diubah kembali menjadi karakter\n",
    "        3. Value ketiga adalah karakter ‘+’ jika value pertama lebih besar dari value kedua, atau value ketiga adalah karakter ‘-’ jika value pertama tidak lebih besar dari value kedua\n",
    "        4. Deretkan value pertama, kedua dan ketiga untuk setiap karakter dalam password tersebut sehingga didapatkan password dalam bentuk baru "
   ]
  },
  {
   "cell_type": "code",
   "execution_count": 1,
   "metadata": {},
   "outputs": [],
   "source": [
    "from functools import reduce"
   ]
  },
  {
   "cell_type": "markdown",
   "metadata": {},
   "source": [
    "### Nomor 6"
   ]
  },
  {
   "cell_type": "markdown",
   "metadata": {},
   "source": [
    "Cara 1"
   ]
  },
  {
   "cell_type": "code",
   "execution_count": 18,
   "metadata": {},
   "outputs": [
    {
     "name": "stdout",
     "output_type": "stream",
     "text": [
      "T[-Sc-TQ+TV-T[-Sf-Sc-T\\-Sc-Qh-Qf-Qh-Qg-\n"
     ]
    }
   ],
   "source": [
    "def enc(char: str) -> str:\n",
    "    ascii = ord(char)\n",
    "    value_1 = (ascii // 26) + 80\n",
    "    value_2 = (ascii % 26) + 80\n",
    "    value_3 = '+' if value_1 > value_2 else '-'\n",
    "    return chr(value_1) + chr(value_2) + value_3\n",
    "\n",
    "def pw_enc(password: str) -> str:\n",
    "    return reduce(lambda result, char: result + enc(char), password, '') \n",
    "password = \"sainsdata2021\"\n",
    "encrypted_password = pw_enc(password)\n",
    "print(encrypted_password)"
   ]
  },
  {
   "cell_type": "markdown",
   "metadata": {},
   "source": [
    "Cara 2"
   ]
  },
  {
   "cell_type": "code",
   "execution_count": 19,
   "metadata": {},
   "outputs": [],
   "source": [
    "def encrypt(pw):\n",
    "  splitpass = list(pw) \n",
    "  asciipass = list()\n",
    "  for char in splitpass:\n",
    "    asciichar = ord(char) \n",
    "    asciipass.append(asciichar) \n",
    "\n",
    "  encryptedpass = \"\"\n",
    "  for num in asciipass: \n",
    "    value_1 = num//26 + 80 \n",
    "    value_2 = num%26 + 80\n",
    "    if value_1 > value_2:\n",
    "      value_3 = '+'\n",
    "    else:\n",
    "      value_3 = '-'\n",
    "\n",
    "    encryptedpass = encryptedpass + chr(value_1) + chr(value_2) + value_3\n",
    "\n",
    "  return encryptedpass #akan mengembalikan password yang telah dienkripsi"
   ]
  },
  {
   "cell_type": "code",
   "execution_count": 20,
   "metadata": {},
   "outputs": [
    {
     "name": "stdout",
     "output_type": "stream",
     "text": [
      "Hasil enkripsi password : \n",
      "T[-Sc-TQ+TV-T[-Sf-Sc-T\\-Sc-Qh-Qf-Qh-Qg-\n"
     ]
    }
   ],
   "source": [
    "print(\"Hasil enkripsi password : \")\n",
    "password = 'sainsdata2021'\n",
    "hasilencrypt = encrypt(password)\n",
    "print(hasilencrypt)"
   ]
  }
 ],
 "metadata": {
  "kernelspec": {
   "display_name": "Python 3",
   "language": "python",
   "name": "python3"
  },
  "language_info": {
   "codemirror_mode": {
    "name": "ipython",
    "version": 3
   },
   "file_extension": ".py",
   "mimetype": "text/x-python",
   "name": "python",
   "nbconvert_exporter": "python",
   "pygments_lexer": "ipython3",
   "version": "3.9.7 (tags/v3.9.7:1016ef3, Aug 30 2021, 20:19:38) [MSC v.1929 64 bit (AMD64)]"
  },
  "orig_nbformat": 4,
  "vscode": {
   "interpreter": {
    "hash": "1b3e16f57632e42da04b190ed84cd80a854ef41e391e373c4870c9bad285446f"
   }
  }
 },
 "nbformat": 4,
 "nbformat_minor": 2
}
